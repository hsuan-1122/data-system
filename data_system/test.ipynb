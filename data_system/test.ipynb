{
 "cells": [
  {
   "cell_type": "code",
   "execution_count": 1,
   "metadata": {},
   "outputs": [],
   "source": [
    "output_id = [[] for i in range(3)]"
   ]
  },
  {
   "cell_type": "code",
   "execution_count": 3,
   "metadata": {},
   "outputs": [],
   "source": [
    "for i in range(3):\n",
    "    for k in range(10):\n",
    "        output_id[i].append(k)"
   ]
  },
  {
   "cell_type": "code",
   "execution_count": 4,
   "metadata": {},
   "outputs": [
    {
     "name": "stdout",
     "output_type": "stream",
     "text": [
      "[[0, 1, 2, 3, 4, 5, 6, 7, 8, 9], [0, 1, 2, 3, 4, 5, 6, 7, 8, 9], [0, 1, 2, 3, 4, 5, 6, 7, 8, 9]]\n"
     ]
    }
   ],
   "source": [
    "print(output_id)"
   ]
  },
  {
   "cell_type": "code",
   "execution_count": 5,
   "metadata": {},
   "outputs": [
    {
     "name": "stdout",
     "output_type": "stream",
     "text": [
      "3\n"
     ]
    }
   ],
   "source": [
    "print(len(output_id))"
   ]
  },
  {
   "cell_type": "code",
   "execution_count": 6,
   "metadata": {},
   "outputs": [
    {
     "name": "stdout",
     "output_type": "stream",
     "text": [
      "10\n"
     ]
    }
   ],
   "source": [
    "print(len(output_id[0]))"
   ]
  },
  {
   "cell_type": "code",
   "execution_count": 1,
   "metadata": {},
   "outputs": [],
   "source": [
    "l = ['','','']"
   ]
  },
  {
   "cell_type": "code",
   "execution_count": 2,
   "metadata": {},
   "outputs": [
    {
     "name": "stdout",
     "output_type": "stream",
     "text": [
      "['', '', '']\n"
     ]
    }
   ],
   "source": [
    "print(l)"
   ]
  },
  {
   "cell_type": "code",
   "execution_count": 1,
   "metadata": {},
   "outputs": [],
   "source": [
    "file = open('stu_data1.txt', 'w')"
   ]
  },
  {
   "cell_type": "code",
   "execution_count": 2,
   "metadata": {},
   "outputs": [],
   "source": [
    "file.close()"
   ]
  },
  {
   "cell_type": "code",
   "execution_count": 4,
   "metadata": {},
   "outputs": [],
   "source": [
    "import json\n",
    "dictionary = {'甲':0, '乙':1, '丙':2}\n"
   ]
  },
  {
   "cell_type": "code",
   "execution_count": 5,
   "metadata": {},
   "outputs": [],
   "source": [
    "with open('test.txt', 'w', encoding='utf-8') as file:\n",
    "    s = json.dumps(dictionary)\n",
    "    file.write(s)"
   ]
  },
  {
   "cell_type": "code",
   "execution_count": 7,
   "metadata": {},
   "outputs": [
    {
     "name": "stdout",
     "output_type": "stream",
     "text": [
      "{\"\\u7532\": 0, \"\\u4e59\": 1, \"\\u4e19\": 2}\n"
     ]
    }
   ],
   "source": [
    "with open('test.txt', 'r', encoding='utf-8') as file:\n",
    "    s = file.read()\n",
    "    # dic = dict(s)\n",
    "print(s)"
   ]
  },
  {
   "cell_type": "code",
   "execution_count": 2,
   "metadata": {},
   "outputs": [],
   "source": [
    "import json\n",
    "\n",
    "my_dict = {\"甲\": 4, \"乙\": 2, \"丙\": 6, \"丁\": 11}\n",
    "\n",
    "with open(\"myDictionary.json\", \"w\") as tf:\n",
    "    json.dump(my_dict, tf)\n"
   ]
  },
  {
   "cell_type": "code",
   "execution_count": 3,
   "metadata": {},
   "outputs": [
    {
     "name": "stdout",
     "output_type": "stream",
     "text": [
      "<class 'dict'>\n",
      "{'甲': 4, '乙': 2, '丙': 6, '丁': 11}\n",
      "2\n"
     ]
    }
   ],
   "source": [
    "with open(\"myDictionary.json\", \"r\") as tf:\n",
    "    dic = json.load(tf)\n",
    "print(type(dic))\n",
    "print(dic)\n",
    "print(dic['乙'])"
   ]
  },
  {
   "cell_type": "code",
   "execution_count": 14,
   "metadata": {},
   "outputs": [
    {
     "name": "stdout",
     "output_type": "stream",
     "text": [
      "1\n"
     ]
    }
   ],
   "source": [
    "dic = {\n",
    "    'survey_1grade_1classname_1' : 0,\n",
    "    'survey_2grade_2classname_2' : 1,\n",
    "    'survey_3grade_3classname_3' : 2,\n",
    "    'survey_4grade_4classname_4' : 3\n",
    "}\n",
    "\n",
    "print(dic['survey_2'+'grade_2'+'classname_2'])"
   ]
  },
  {
   "cell_type": "code",
   "execution_count": null,
   "metadata": {},
   "outputs": [],
   "source": [
    "with open(list_id[1], 'r', encoding=\"utf-8\") as file:\n",
    "        for line in file.readlines():\n",
    "            output_id[1].append(line)\n",
    "\n",
    "with open(list_id[1], 'a', encoding=\"utf-8\") as file:\n",
    "        file.writelines(line_name)\n",
    "\n",
    "with open(list_id[1], 'r', encoding=\"utf-8\") as file:\n",
    "        output_id[1] = json.load(file)\n",
    "\n",
    "with open(list_id[1], 'a', encoding=\"utf-8\") as file:\n",
    "        json.dump(line_name, file)"
   ]
  },
  {
   "cell_type": "code",
   "execution_count": 6,
   "metadata": {},
   "outputs": [
    {
     "name": "stdout",
     "output_type": "stream",
     "text": [
      "[1, 2, 3, 4, 5, 6, 7]\n"
     ]
    }
   ],
   "source": [
    "import json\n",
    "list1 = [1,2,3,4]\n",
    "list2 = [5,6,7]\n",
    "with open('test.json', 'w', encoding=\"utf-8\") as file:\n",
    "        json.dump(list1, file)\n",
    "with open('test.json', 'w', encoding=\"utf-8\") as file:\n",
    "        list1 = list1 + list2\n",
    "        json.dump(list1, file)\n",
    "with open('test.json', 'r', encoding=\"utf-8\") as file:\n",
    "        list3 = json.load(file)\n",
    "        print(list3)"
   ]
  },
  {
   "cell_type": "code",
   "execution_count": 12,
   "metadata": {},
   "outputs": [
    {
     "name": "stdout",
     "output_type": "stream",
     "text": [
      "43\n"
     ]
    },
    {
     "ename": "",
     "evalue": "",
     "output_type": "error",
     "traceback": [
      "\u001b[1;31mThe Kernel crashed while executing code in the current cell or a previous cell. \n",
      "\u001b[1;31mPlease review the code in the cell(s) to identify a possible cause of the failure. \n",
      "\u001b[1;31mClick <a href='https://aka.ms/vscodeJupyterKernelCrash'>here</a> for more info. \n",
      "\u001b[1;31mView Jupyter <a href='command:jupyter.viewOutput'>log</a> for further details."
     ]
    }
   ],
   "source": [
    "import json\n",
    "with open('31.json', 'r', encoding=\"utf-8\") as file:\n",
    "        list3 = json.load(file)\n",
    "        print(len(list3))"
   ]
  },
  {
   "cell_type": "code",
   "execution_count": 6,
   "metadata": {},
   "outputs": [
    {
     "name": "stdout",
     "output_type": "stream",
     "text": [
      "4b214011\t林信宏\t1\t1\t2\t4\t3\t3\t1\t2\t2\t1\t2\t2\t2\t2\t3\t0\t3\t2\t2\t2\t3\t小團體很多有時候很莫名奇妙\t3\t4\t3\t3\t4\t\"1,4,5\"\t有時候家裡有事情就趕不回台南\t3\t3\t3\t4\t4\t3\t無\t4\t3\t3\t4\t3\t3\t上課認真聽\t3\t5\t4\t4\t無\t\t\t\n",
      "\n",
      "['4b214011', '林信宏', '1', '1', '2', '4', '3', '3', '1', '2', '2', '1', '2', '2', '2', '2', '3', '0', '3', '2', '2', '2', '3', '小團體很多有時候很莫名奇妙', '3', '4', '3', '3', '4', '\"1,4,5\"', '有時候家裡有事情就趕不回台南', '3', '3', '3', '4', '4', '3', '無', '4', '3', '3', '4', '3', '3', '上課認真聽', '3', '5', '4', '4', '無', '', '', '\\n']\n"
     ]
    }
   ],
   "source": [
    "import json\n",
    "with open('test.txt', 'r', encoding=\"utf-8\") as input:\n",
    "    for line in input.readlines():\n",
    "        print(line)\n",
    "        raw_data = line.split(\"\\t\")\n",
    "        print(raw_data)\n",
    "with open('test.json', 'w') as file:\n",
    "      json.dump(raw_data, file)"
   ]
  },
  {
   "cell_type": "code",
   "execution_count": 1,
   "metadata": {},
   "outputs": [
    {
     "name": "stdout",
     "output_type": "stream",
     "text": [
      "123\n",
      "456\n"
     ]
    }
   ],
   "source": [
    "string = '123\\n456'\n",
    "print(string)"
   ]
  },
  {
   "cell_type": "code",
   "execution_count": 1,
   "metadata": {},
   "outputs": [
    {
     "name": "stdout",
     "output_type": "stream",
     "text": [
      "{'自控一乙目的0自控一': 0, '自控一甲目的0自控一': 0, '投入問卷自一0設計思考與大學定錨': 0}\n"
     ]
    }
   ],
   "source": [
    "import json\n",
    "with open('class_name_dict.json', 'r', encoding='utf-8') as file:\n",
    "    dic = json.load(file)\n",
    "    print(dic)"
   ]
  },
  {
   "cell_type": "code",
   "execution_count": 2,
   "metadata": {},
   "outputs": [
    {
     "name": "stdout",
     "output_type": "stream",
     "text": [
      "['自控一', '設計思考與大學定錨']\n"
     ]
    }
   ],
   "source": [
    "import json\n",
    "with open('class_name.json', 'r', encoding='utf-8') as file:\n",
    "    dic = json.load(file)\n",
    "    print(dic)"
   ]
  },
  {
   "cell_type": "code",
   "execution_count": 2,
   "metadata": {},
   "outputs": [
    {
     "name": "stdout",
     "output_type": "stream",
     "text": [
      "4\n"
     ]
    }
   ],
   "source": [
    "abc = ['12345', '23456']\n",
    "print(abc[1][2])"
   ]
  }
 ],
 "metadata": {
  "kernelspec": {
   "display_name": "test",
   "language": "python",
   "name": "python3"
  },
  "language_info": {
   "codemirror_mode": {
    "name": "ipython",
    "version": 3
   },
   "file_extension": ".py",
   "mimetype": "text/x-python",
   "name": "python",
   "nbconvert_exporter": "python",
   "pygments_lexer": "ipython3",
   "version": "3.12.4"
  }
 },
 "nbformat": 4,
 "nbformat_minor": 2
}
